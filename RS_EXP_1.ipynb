{
  "nbformat": 4,
  "nbformat_minor": 0,
  "metadata": {
    "colab": {
      "provenance": []
    },
    "kernelspec": {
      "name": "python3",
      "display_name": "Python 3"
    },
    "language_info": {
      "name": "python"
    }
  },
  "cells": [
    {
      "cell_type": "code",
      "execution_count": null,
      "metadata": {
        "id": "VeYOQF_3GB6K"
      },
      "outputs": [],
      "source": [
        "import numpy as np"
      ]
    },
    {
      "cell_type": "code",
      "source": [
        "# Example matrices for demonstration\n",
        "matrix1 = np.random.randint(0, 10, (5, 5))\n",
        "matrix2 = np.random.randint(0, 10, (5, 5))"
      ],
      "metadata": {
        "id": "QzjCOXym5doA"
      },
      "execution_count": null,
      "outputs": []
    },
    {
      "cell_type": "code",
      "source": [
        "print(matrix1)"
      ],
      "metadata": {
        "colab": {
          "base_uri": "https://localhost:8080/"
        },
        "id": "jr7HLXrb5jZv",
        "outputId": "265a6736-9c4b-4074-92b8-d4bb8b732841"
      },
      "execution_count": null,
      "outputs": [
        {
          "output_type": "stream",
          "name": "stdout",
          "text": [
            "[[4 7 5 0 6]\n",
            " [0 2 7 3 3]\n",
            " [0 0 1 7 8]\n",
            " [9 6 8 1 7]\n",
            " [1 6 3 0 6]]\n"
          ]
        }
      ]
    },
    {
      "cell_type": "code",
      "source": [
        "print(matrix2)"
      ],
      "metadata": {
        "colab": {
          "base_uri": "https://localhost:8080/"
        },
        "id": "P6c7m70t50Lu",
        "outputId": "6c2cef20-0cda-4d29-b472-35f691fccdd5"
      },
      "execution_count": null,
      "outputs": [
        {
          "output_type": "stream",
          "name": "stdout",
          "text": [
            "[[4 7 6 7 0]\n",
            " [9 4 0 7 4]\n",
            " [7 1 2 4 1]\n",
            " [3 9 8 9 4]\n",
            " [1 0 8 9 6]]\n"
          ]
        }
      ]
    },
    {
      "cell_type": "code",
      "source": [
        "# Add the matrices\n",
        "addition_result = matrix1 + matrix2\n",
        "print(\"Matrix Addition:\")\n",
        "print(addition_result)"
      ],
      "metadata": {
        "colab": {
          "base_uri": "https://localhost:8080/"
        },
        "id": "AvnDW8e67KnP",
        "outputId": "27f7fe85-392f-4087-f1e7-edde6fe55e99"
      },
      "execution_count": null,
      "outputs": [
        {
          "output_type": "stream",
          "name": "stdout",
          "text": [
            "Matrix Addition:\n",
            "[[ 8 14 11  7  6]\n",
            " [ 9  6  7 10  7]\n",
            " [ 7  1  3 11  9]\n",
            " [12 15 16 10 11]\n",
            " [ 2  6 11  9 12]]\n"
          ]
        }
      ]
    },
    {
      "cell_type": "code",
      "source": [
        "# Subtract the matrices\n",
        "subtraction_result = matrix1 - matrix2\n",
        "print(\"Matrix Subtraction:\")\n",
        "print(subtraction_result)"
      ],
      "metadata": {
        "colab": {
          "base_uri": "https://localhost:8080/"
        },
        "id": "l9btCGpL7d1y",
        "outputId": "58585e65-d8e2-4e00-eb7a-2dd5d1a7d5ad"
      },
      "execution_count": null,
      "outputs": [
        {
          "output_type": "stream",
          "name": "stdout",
          "text": [
            "Matrix Subtraction:\n",
            "[[ 0  0 -1 -7  6]\n",
            " [-9 -2  7 -4 -1]\n",
            " [-7 -1 -1  3  7]\n",
            " [ 6 -3  0 -8  3]\n",
            " [ 0  6 -5 -9  0]]\n"
          ]
        }
      ]
    },
    {
      "cell_type": "code",
      "source": [
        "# Scalar Multiplication\n",
        "scalar = 2\n",
        "scalar_multiplication = scalar * matrix1\n",
        "print(\"Matrix Scalar Multiplication:\")\n",
        "print(scalar_multiplication)"
      ],
      "metadata": {
        "colab": {
          "base_uri": "https://localhost:8080/"
        },
        "id": "9pBFKL5T7ud1",
        "outputId": "b8f70106-8f7a-4d1d-e294-58d3cae7941c"
      },
      "execution_count": null,
      "outputs": [
        {
          "output_type": "stream",
          "name": "stdout",
          "text": [
            "Matrix Scalar Multiplication:\n",
            "[[ 8 14 10  0 12]\n",
            " [ 0  4 14  6  6]\n",
            " [ 0  0  2 14 16]\n",
            " [18 12 16  2 14]\n",
            " [ 2 12  6  0 12]]\n"
          ]
        }
      ]
    },
    {
      "cell_type": "code",
      "source": [
        "# Transpose of a matrix\n",
        "transpose = np.transpose(matrix1)\n",
        "print(\"Matrix Transpose:\")\n",
        "print(transpose)"
      ],
      "metadata": {
        "colab": {
          "base_uri": "https://localhost:8080/"
        },
        "id": "4Y4o7TZK8VXc",
        "outputId": "c60ef460-28e1-4703-9016-999e8ebfec2b"
      },
      "execution_count": null,
      "outputs": [
        {
          "output_type": "stream",
          "name": "stdout",
          "text": [
            "Matrix Transpose:\n",
            "[[4 0 0 9 1]\n",
            " [7 2 0 6 6]\n",
            " [5 7 1 8 3]\n",
            " [0 3 7 1 0]\n",
            " [6 3 8 7 6]]\n"
          ]
        }
      ]
    },
    {
      "cell_type": "code",
      "source": [
        "# Covariance of a matrix\n",
        "cov_matrix = np.cov(matrix1)\n",
        "print(\"Covariance Matrix:\")\n",
        "print(cov_matrix)"
      ],
      "metadata": {
        "colab": {
          "base_uri": "https://localhost:8080/"
        },
        "id": "zs795PlE9khG",
        "outputId": "102b4cec-6b0d-4f8d-f00a-074a4b2d2c17"
      },
      "execution_count": null,
      "outputs": [
        {
          "output_type": "stream",
          "name": "stdout",
          "text": [
            "Covariance Matrix:\n",
            "[[ 7.3   0.25 -4.35  5.9   6.65]\n",
            " [ 0.25  6.5   1.   -0.25  0.75]\n",
            " [-4.35  1.   15.7  -7.05 -0.05]\n",
            " [ 5.9  -0.25 -7.05  9.7   2.95]\n",
            " [ 6.65  0.75 -0.05  2.95  7.7 ]]\n"
          ]
        }
      ]
    }
  ]
}